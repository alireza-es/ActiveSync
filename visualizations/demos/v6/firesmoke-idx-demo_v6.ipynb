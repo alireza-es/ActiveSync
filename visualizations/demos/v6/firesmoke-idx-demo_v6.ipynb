{
  "cells": [
    {
      "cell_type": "markdown",
      "id": "ca4a48bc-5759-4493-9c86-8115d81615f7",
      "metadata": {
        "jp-MarkdownHeadingCollapsed": true,
        "id": "ca4a48bc-5759-4493-9c86-8115d81615f7"
      },
      "source": [
        "| ![wired](https://www.sci.utah.edu/~pascucci/public/wired-logo-small.png)  | [WIRED Global Center](https://resilience.utah.edu/) + [National Science Data Fabric](https://nationalsciencedatafabric.org/) [Jupyter notebook](https://jupyter.org/) <br> created by [Arleth Z. Salinas](https://arlethzuri.github.io/), and [Valerio Pascucci](http://cedmav.com/)   |![nsdf](https://www.sci.utah.edu/~pascucci/public/NSDF-smaller.PNG)  |\n",
        "|:---|:---:|---:|\n",
        "\n",
        "\n",
        "###  WIRED Global Center  + National Science Data Fabric collaboration: Jupyter Notebook using 3 years of smoke forecast data over US and Canada stored in the cloud and dsitributed via regular internet connection.\n",
        "Data source: [BlueSky Canada Smoke Forecast](https://bluesky4.eos.ubc.ca/)"
      ]
    },
    {
      "cell_type": "markdown",
      "id": "ff5edf9e-1b2c-4e4f-bbac-70c0d7554e29",
      "metadata": {
        "tags": [],
        "id": "ff5edf9e-1b2c-4e4f-bbac-70c0d7554e29"
      },
      "source": [
        "## This notebook provide the instructions on how to read UBC firesmoke data from [`firsmoke_metadata_current.nc`](https://github.com/sci-visus/NSDF-WIRED/tree/main/data/firesmoke_metadata_recent.nc) using xarray and the OpenVisus xarray backend."
      ]
    },
    {
      "cell_type": "markdown",
      "id": "9215a4e8-4d2a-421c-beb1-d0f650c5888f",
      "metadata": {
        "id": "9215a4e8-4d2a-421c-beb1-d0f650c5888f"
      },
      "source": [
        "Dashboard visible here: http://chpc3.nationalsciencedatafabric.org:9988/dashboards"
      ]
    },
    {
      "cell_type": "markdown",
      "id": "3ba0b27c-cda7-4c59-935d-50b7766303a4",
      "metadata": {
        "id": "3ba0b27c-cda7-4c59-935d-50b7766303a4"
      },
      "source": [
        "## **Step 1: Importing the libraries**\n",
        "### Please be sure to have libraries installed"
      ]
    },
    {
      "cell_type": "code",
      "execution_count": 2,
      "id": "c9e182d7",
      "metadata": {
        "tags": [],
        "id": "c9e182d7",
        "outputId": "410a7bd4-7d34-474b-bd97-82968ca0086c",
        "colab": {
          "base_uri": "https://localhost:8080/",
          "height": 384
        }
      },
      "outputs": [
        {
          "output_type": "error",
          "ename": "ModuleNotFoundError",
          "evalue": "No module named 'openvisuspy'",
          "traceback": [
            "\u001b[0;31m---------------------------------------------------------------------------\u001b[0m",
            "\u001b[0;31mModuleNotFoundError\u001b[0m                       Traceback (most recent call last)",
            "\u001b[0;32m<ipython-input-2-bc708175ce08>\u001b[0m in \u001b[0;36m<cell line: 0>\u001b[0;34m()\u001b[0m\n\u001b[1;32m      9\u001b[0m \u001b[0;31m# for connecting OpenVisus framework to xarray\u001b[0m\u001b[0;34m\u001b[0m\u001b[0;34m\u001b[0m\u001b[0m\n\u001b[1;32m     10\u001b[0m \u001b[0;31m# from https://github.com/sci-visus/openvisuspy,\u001b[0m\u001b[0;34m\u001b[0m\u001b[0;34m\u001b[0m\u001b[0m\n\u001b[0;32m---> 11\u001b[0;31m \u001b[0;32mfrom\u001b[0m \u001b[0mopenvisuspy\u001b[0m\u001b[0;34m.\u001b[0m\u001b[0mxarray_backend\u001b[0m \u001b[0;32mimport\u001b[0m \u001b[0mOpenVisusBackendEntrypoint\u001b[0m\u001b[0;34m\u001b[0m\u001b[0;34m\u001b[0m\u001b[0m\n\u001b[0m\u001b[1;32m     12\u001b[0m \u001b[0;34m\u001b[0m\u001b[0m\n\u001b[1;32m     13\u001b[0m \u001b[0;31m# Used for processing netCDF time data\u001b[0m\u001b[0;34m\u001b[0m\u001b[0;34m\u001b[0m\u001b[0m\n",
            "\u001b[0;31mModuleNotFoundError\u001b[0m: No module named 'openvisuspy'",
            "",
            "\u001b[0;31m---------------------------------------------------------------------------\u001b[0;32m\nNOTE: If your import is failing due to a missing package, you can\nmanually install dependencies using either !pip or !apt.\n\nTo view examples of installing some common dependencies, click the\n\"Open Examples\" button below.\n\u001b[0;31m---------------------------------------------------------------------------\u001b[0m\n"
          ],
          "errorDetails": {
            "actions": [
              {
                "action": "open_url",
                "actionText": "Open Examples",
                "url": "/notebooks/snippets/importing_libraries.ipynb"
              }
            ]
          }
        }
      ],
      "source": [
        "# for numerical work\n",
        "import numpy as np\n",
        "\n",
        "# for accessing file system\n",
        "import os\n",
        "\n",
        "# for loading netcdf files, for metadata\n",
        "import xarray as xr\n",
        "# for connecting OpenVisus framework to xarray\n",
        "# from https://github.com/sci-visus/openvisuspy,\n",
        "from xarray_backend import OpenVisusBackendEntrypoint\n",
        "\n",
        "# Used for processing netCDF time data\n",
        "import time\n",
        "import datetime\n",
        "import requests\n",
        "# Used for indexing via metadata\n",
        "import pandas as pd\n",
        "\n",
        "# for plotting\n",
        "import matplotlib.pyplot as plt\n",
        "import cartopy.crs as ccrs\n",
        "\n",
        "\n",
        "#Stores the OpenVisus cache in the local direcrtory\n",
        "import os\n",
        "os.environ[\"VISUS_CACHE\"]=\"./visus_cache_can_be_erased\"\n",
        "os.environ['CURL_CA_BUNDLE'] = ''"
      ]
    },
    {
      "cell_type": "markdown",
      "id": "79a02fb9-abd7-4168-9f2d-6700c10d8eba",
      "metadata": {
        "tags": [],
        "id": "79a02fb9-abd7-4168-9f2d-6700c10d8eba"
      },
      "source": [
        "## **Step 2: Reading the data & metadata from file**\n",
        "### In this section, we load our data using `xr.open_dataset`."
      ]
    },
    {
      "cell_type": "code",
      "execution_count": null,
      "id": "4c25b405-fa12-4831-b51a-116da6c88a77",
      "metadata": {
        "tags": [],
        "id": "4c25b405-fa12-4831-b51a-116da6c88a77"
      },
      "outputs": [],
      "source": [
        "# path to tiny NetCDF\n",
        "url = 'https://github.com/sci-visus/NSDF-WIRED/raw/main/data/firesmoke_metadata.nc'\n",
        "\n",
        "# Download the file using requests\n",
        "response = requests.get(url)\n",
        "local_netcdf = 'firesmoke_metadata.nc'\n",
        "with open(local_netcdf, 'wb') as f:\n",
        "    f.write(response.content)\n",
        "\n",
        "# open tiny netcdf with xarray and OpenVisus backend\n",
        "ds = xr.open_dataset(local_netcdf, engine=OpenVisusBackendEntrypoint)"
      ]
    },
    {
      "cell_type": "code",
      "execution_count": null,
      "id": "3ccc8607-1ead-46fd-8e17-37605ee3207b",
      "metadata": {
        "tags": [],
        "id": "3ccc8607-1ead-46fd-8e17-37605ee3207b"
      },
      "outputs": [],
      "source": [
        "ds"
      ]
    },
    {
      "cell_type": "markdown",
      "id": "bb2a36ea-ecd8-496a-871c-bb18381e5740",
      "metadata": {
        "id": "bb2a36ea-ecd8-496a-871c-bb18381e5740"
      },
      "source": [
        "#### Data Variables Description\n",
        "| Attribute         | Description                                                                                                           |\n",
        "|-------------------|-----------------------------------------------------------------------------------------------------------------------|\n",
        "| PM25              | The concentration of particulate matter (PM2.5) for each time step, layer, row, and column in the spatial grid.       |\n",
        "| TFLAG             | The date and time of each data point.                                                                                 |\n",
        "| wrf_arw_init_time | The time at which this prediction's weather forecast was initiated.                                                   |\n",
        "| resampled         | Whether this timestamp was resampled from a 381x1041 to 381x1081 grid or not.                                         |\n",
        "| CDATE             | The creation date of the data point, in YYYYDDD format.                                                                  |\n",
        "| CTIME             | The creation time of the data point, in HHMMSS format.                                                                   |\n",
        "| WDATE             | The date for which the weather forecast is initiated, in YYYYDDD format.                                              |\n",
        "| WTIME             | The time for which the weather forecast is initiated, in HHMMSS format.                                               |\n",
        "| SDATE             | The date for which the smoke forecast is initiated, in YYYYDDD format.                                                |\n",
        "| STIME             | The time for which the weather forecast is initiated, in HHMMSS format.                                               |"
      ]
    },
    {
      "cell_type": "markdown",
      "id": "385474fb-b159-47a5-87f6-884a2e6b4a0b",
      "metadata": {
        "id": "385474fb-b159-47a5-87f6-884a2e6b4a0b"
      },
      "source": [
        "## **Step 2.5, Calculate derived metadata using original metadata above to create coordinates**\n",
        "### This is required to allow for indexing of data via metadata"
      ]
    },
    {
      "cell_type": "markdown",
      "id": "758cd2bb-b75d-484f-82df-fe702ae15506",
      "metadata": {
        "id": "758cd2bb-b75d-484f-82df-fe702ae15506"
      },
      "source": [
        "#### Calculate latitude and longitude grid"
      ]
    },
    {
      "cell_type": "code",
      "execution_count": null,
      "id": "35d6b10f-6613-42ea-a0f8-a5e82d2e71df",
      "metadata": {
        "id": "35d6b10f-6613-42ea-a0f8-a5e82d2e71df"
      },
      "outputs": [],
      "source": [
        "# Get metadata to compute lon and lat\n",
        "xorig = ds.XORIG\n",
        "yorig = ds.YORIG\n",
        "xcell = ds.XCELL\n",
        "ycell = ds.YCELL\n",
        "ncols = ds.NCOLS\n",
        "nrows = ds.NROWS\n",
        "\n",
        "longitude = np.linspace(xorig, xorig + xcell * (ncols - 1), ncols)\n",
        "latitude = np.linspace(yorig, yorig + ycell * (nrows - 1), nrows)\n",
        "\n",
        "print(\"Size of longitude & latitude arrays:\")\n",
        "print(f'np.size(longitude) = {np.size(longitude)}')\n",
        "print(f'np.size(latitude) = {np.size(latitude)}\\n')\n",
        "print(\"Min & Max of longitude and latitude arrays:\")\n",
        "print(f'longitude: min = {np.min(longitude)}, max = {np.max(longitude)}')\n",
        "print(f'latitude: min = {np.min(latitude)}, max = {np.max(latitude)}')"
      ]
    },
    {
      "cell_type": "markdown",
      "id": "1dd48faf-1332-439f-955e-150bd60888c8",
      "metadata": {
        "id": "1dd48faf-1332-439f-955e-150bd60888c8"
      },
      "source": [
        "#### Using calculated latitude and longitude, create coordinates allowing for indexing data using lat/lon"
      ]
    },
    {
      "cell_type": "code",
      "execution_count": null,
      "id": "f889a8c8-29e1-4202-a02a-695765aedef5",
      "metadata": {
        "tags": [],
        "id": "f889a8c8-29e1-4202-a02a-695765aedef5"
      },
      "outputs": [],
      "source": [
        "# Create coordinates for lat and lon (credit: Aashish Panta)\n",
        "ds.coords['lat'] = ('ROW', latitude)\n",
        "ds.coords['lon'] = ('COL', longitude)\n",
        "\n",
        "# Replace col and row dimensions with newly calculated lon and lat arrays (credit: Aashish Panta)\n",
        "ds = ds.swap_dims({'COL': 'lon', 'ROW': 'lat'})"
      ]
    },
    {
      "cell_type": "markdown",
      "id": "f3cbb2b3-7bbf-47a7-b12b-f30e34de6a2e",
      "metadata": {
        "id": "f3cbb2b3-7bbf-47a7-b12b-f30e34de6a2e"
      },
      "source": [
        "#### Create coordinates allowing for indexing data using timestamp"
      ]
    },
    {
      "cell_type": "markdown",
      "id": "e9083682-25cb-4d51-8d2e-765b377e3b67",
      "metadata": {
        "id": "e9083682-25cb-4d51-8d2e-765b377e3b67"
      },
      "source": [
        "##### First, convert tflags to timestamps that are compatible with xarray"
      ]
    },
    {
      "cell_type": "code",
      "execution_count": null,
      "id": "c72cd60c-3ca6-4dd8-9f21-09ec41a27fb6",
      "metadata": {
        "scrolled": true,
        "id": "c72cd60c-3ca6-4dd8-9f21-09ec41a27fb6"
      },
      "outputs": [],
      "source": [
        "def parse_tflag(tflag):\n",
        "    \"\"\"\n",
        "    Return the tflag as a datetime object\n",
        "    :param list tflag: a list of two int32, the 1st representing date and 2nd representing time\n",
        "    \"\"\"\n",
        "    # obtain year and day of year from tflag[0] (date)\n",
        "    date = int(tflag[0])\n",
        "    year = date // 1000 # first 4 digits of tflag[0]\n",
        "    day_of_year = date % 1000 # last 3 digits of tflag[0]\n",
        "\n",
        "    # create datetime object representing date\n",
        "    final_date = datetime.datetime(year, 1, 1) + datetime.timedelta(days=day_of_year - 1)\n",
        "\n",
        "    # obtain hour, mins, and secs from tflag[1] (time)\n",
        "    time = int(tflag[1])\n",
        "    hours = time // 10000 # first 2 digits of tflag[1]\n",
        "    minutes = (time % 10000) // 100 # 3rd and 4th digits of tflag[1]\n",
        "    seconds = time % 100  # last 2 digits of tflag[1]\n",
        "\n",
        "    # create final datetime object\n",
        "    full_datetime = datetime.datetime(year, final_date.month, final_date.day, hours, minutes, seconds)\n",
        "    return full_datetime"
      ]
    },
    {
      "cell_type": "markdown",
      "id": "de2bc716-bb8f-4b1e-8947-a2d52b688a74",
      "metadata": {
        "id": "de2bc716-bb8f-4b1e-8947-a2d52b688a74"
      },
      "source": [
        "##### Return an array of the tflags as pandas timestamps"
      ]
    },
    {
      "cell_type": "code",
      "execution_count": null,
      "id": "f4c6a5cd-0a71-46b0-ac63-0c18290c1286",
      "metadata": {
        "id": "f4c6a5cd-0a71-46b0-ac63-0c18290c1286"
      },
      "outputs": [],
      "source": [
        "# get all tflags\n",
        "tflag_values = ds['TFLAG'].values\n",
        "\n",
        "# to store pandas timestamps\n",
        "timestamps = []\n",
        "\n",
        "# convert all tflags to pandas timestamps, store in timestamps list\n",
        "for tflag in tflag_values:\n",
        "    timestamps.append(pd.Timestamp(parse_tflag(tflag[0])))\n",
        "\n",
        "# check out the first 3 timestamps\n",
        "timestamps[0:3]"
      ]
    },
    {
      "cell_type": "code",
      "execution_count": null,
      "id": "867c6c2b-8a9e-44b6-9dfc-49838d0c9c04",
      "metadata": {
        "id": "867c6c2b-8a9e-44b6-9dfc-49838d0c9c04"
      },
      "outputs": [],
      "source": [
        "# set coordinates to each timestep with these pandas timestamps\n",
        "ds.coords['time'] = ('time', timestamps)"
      ]
    },
    {
      "cell_type": "markdown",
      "id": "0844360e-9d19-4bc0-9f09-0024b64f402c",
      "metadata": {
        "id": "0844360e-9d19-4bc0-9f09-0024b64f402c"
      },
      "source": [
        "#### The timestamps may not be intuitive. The following utility function returns the desired pandas timestamp based on your date and time of interest.\n",
        "\n",
        "##### When you index the data at a desired time, use this function to get the timestamp you need to index."
      ]
    },
    {
      "cell_type": "code",
      "execution_count": null,
      "id": "7ae260b4-0b7d-48e7-909d-7fe9ba82bf61",
      "metadata": {
        "id": "7ae260b4-0b7d-48e7-909d-7fe9ba82bf61"
      },
      "outputs": [],
      "source": [
        "def get_timestamp(year, month, day, hour):\n",
        "    \"\"\"\n",
        "    return a pandas timestamp using the given date-time arguments\n",
        "    :param int year: year\n",
        "    :param int month: month\n",
        "    :param int day: day\n",
        "    :param int hour: hour\n",
        "    \"\"\"\n",
        "    # Convert year, month, day, and hour to a datetime object\n",
        "    full_datetime = datetime.datetime(year, month, day, hour)\n",
        "\n",
        "    # Extract components from the datetime object\n",
        "    year = full_datetime.year\n",
        "    day_of_year = full_datetime.timetuple().tm_yday\n",
        "    hours = full_datetime.hour\n",
        "    minutes = full_datetime.minute\n",
        "    seconds = full_datetime.second\n",
        "\n",
        "    # Compute tflag[0] and tflag[1]\n",
        "    tflag0 = year * 1000 + day_of_year\n",
        "    tflag1 = hours * 10000 + minutes * 100 + seconds\n",
        "\n",
        "    # Return the Pandas Timestamp object\n",
        "    return pd.Timestamp(full_datetime)"
      ]
    },
    {
      "cell_type": "markdown",
      "id": "ebe3db04-4720-4e1c-856e-e962d4dda777",
      "metadata": {
        "tags": [],
        "id": "ebe3db04-4720-4e1c-856e-e962d4dda777"
      },
      "source": [
        "## **Step 3:  Select a `data_slice`**\n",
        "### This section shows you how to load the data you want."
      ]
    },
    {
      "cell_type": "markdown",
      "id": "16c23b6e-1d6e-4557-a6b9-087ae2953769",
      "metadata": {
        "id": "16c23b6e-1d6e-4557-a6b9-087ae2953769"
      },
      "source": [
        "#### You can index the data using indices, timestamps*, latitude & longitude, and by desired resolution**.\n",
        "*Not setting any time means the first timestep available is selected.\n",
        "**Not setting quality means full data resolution is selected.\n",
        "\n",
        "---"
      ]
    },
    {
      "cell_type": "markdown",
      "id": "240bcb9e-61b8-4249-8042-aaf4fc35a205",
      "metadata": {
        "id": "240bcb9e-61b8-4249-8042-aaf4fc35a205"
      },
      "source": [
        "##### In this case, let's get all available firesmoke data for March 5, 2021 00:00:00 and the time and date for which it's weather and smoke forecast were initiated."
      ]
    },
    {
      "cell_type": "code",
      "execution_count": null,
      "id": "9aea7adf-5eb2-4480-99ec-a3ef7047d3e0",
      "metadata": {
        "id": "9aea7adf-5eb2-4480-99ec-a3ef7047d3e0"
      },
      "outputs": [],
      "source": [
        "# select timestamp\n",
        "my_timestamp = get_timestamp(2021, 3, 5, 0)\n",
        "\n",
        "# select resolution, let's use full resolution since data isn't too big at one time slice\n",
        "# data resolution can be -19 for lowest res and 0 for highest res\n",
        "data_resolution = 0\n",
        "\n",
        "# get PM25 values and provide 4 values, the colons mean select all lat and lon indices\n",
        "data_array_at_time = ds['PM25'].loc[my_timestamp, :, :, data_resolution]\n",
        "\n",
        "# the metadata specifying weather and smoke forecast initialization times\n",
        "resampled = ds['resampled'].loc[my_timestamp]\n",
        "sdate = ds['SDATE'].loc[my_timestamp]\n",
        "stime = ds['STIME'].loc[my_timestamp]\n",
        "wdate = ds['WDATE'].loc[my_timestamp]\n",
        "wtime = ds['WTIME'].loc[my_timestamp]\n",
        "\n",
        "# notice, to access the data, you must append \".values\" to the data array we got above\n",
        "print(f'timestamp: {my_timestamp}')\n",
        "print(f'resampled: {resampled.values} (boolean)')\n",
        "print(f'SDATE is {sdate.values} (YYYYDDD)')\n",
        "print(f'STIME is {stime.values} (HHMMSS)')\n",
        "print(f'WDATE is {wdate.values} (YYYYDDD)')\n",
        "print(f'WTIME is {wtime.values} (HHMMSS)')\n",
        "print(f'shape of data_array_at_time.values = {np.shape(data_array_at_time.values)}')"
      ]
    },
    {
      "cell_type": "markdown",
      "id": "3a53af2f-c1a6-4379-a685-341576b4f8d9",
      "metadata": {
        "id": "3a53af2f-c1a6-4379-a685-341576b4f8d9"
      },
      "source": [
        "##### Perhaps we want to slice a specific latitude longitude range from our `data_array_at_time`, for example, latitude range `[35, 50]` and longitude range `[-140, -80]`. Let's do that below."
      ]
    },
    {
      "cell_type": "code",
      "execution_count": null,
      "id": "a74de20b-30bf-4bed-bb25-745c1ad6403b",
      "metadata": {
        "id": "a74de20b-30bf-4bed-bb25-745c1ad6403b"
      },
      "outputs": [],
      "source": [
        "# # define range for latitude and longitude to use\n",
        "min_lat = 35\n",
        "max_lat = 50\n",
        "min_lon = -140\n",
        "max_lon = -80\n",
        "\n",
        "# get PM25 values and provide 4 values, but this time at our desired ranges\n",
        "data_array_at_latlon = ds['PM25'].loc[my_timestamp, min_lat:max_lat, min_lon:max_lon, data_resolution]\n",
        "\n",
        "# notice, to access the data, you must append \".values\" to the data array we got above\n",
        "print(f'timestamp: {my_timestamp}')\n",
        "print(f'shape of data_array_at_time.values = {np.shape(data_array_at_latlon.values)}')"
      ]
    },
    {
      "cell_type": "markdown",
      "id": "a0001cfa-c08a-4f5a-a867-0954762d7667",
      "metadata": {
        "id": "a0001cfa-c08a-4f5a-a867-0954762d7667"
      },
      "source": [
        "We show how to obtain this attribute information for a time step of one's choice, let's use"
      ]
    },
    {
      "cell_type": "markdown",
      "id": "7f51ca29-0307-4695-ac3d-582b00fa33d6",
      "metadata": {
        "id": "7f51ca29-0307-4695-ac3d-582b00fa33d6"
      },
      "source": [
        "#### The following are the max and min timestamps, lon/lat values, and data resolutions you can index by\n",
        "##### Be sure you index within the data range, otherwise you may get errors since no data exists outside these ranges!"
      ]
    },
    {
      "cell_type": "code",
      "execution_count": null,
      "id": "8689f676-5f72-434f-aa84-f3f608dc9a4c",
      "metadata": {
        "id": "8689f676-5f72-434f-aa84-f3f608dc9a4c"
      },
      "outputs": [],
      "source": [
        "# NOTE: there is one dummy date, ignore ds['time'].values[-1]\n",
        "print(f\"earliest valid timestamp is: {ds['time'].values[0]}\")\n",
        "print(f\"latest valid timestamp is: {ds['time'].values[-2]}\\n\")\n",
        "\n",
        "print(f\"valid longitude range is: {ds['lon'].values[0]}, {ds['lon'].values[-1]}\")\n",
        "print(f\"valid latitude range is: {ds['lat'].values[0]}, {ds['lat'].values[-1]}\\n\")\n",
        "\n",
        "print(f\"valid data resolutions range is: [-19, 0]\")"
      ]
    },
    {
      "cell_type": "markdown",
      "id": "db8a4846-f9ad-44a7-a39d-c1e2d28717b9",
      "metadata": {
        "id": "db8a4846-f9ad-44a7-a39d-c1e2d28717b9"
      },
      "source": [
        "## **Step 4:  Visualize `data_slice`**\n",
        "### One can visualize the data either by:\n",
        "### 1. Get the values from your `data_array_at_time` and plot using your favorite python visualization library. We'll use matplotlib.\n",
        "#### 2. Use xarray's built in plotting function (not recommended, as it is not robust)\n",
        "---"
      ]
    },
    {
      "cell_type": "markdown",
      "id": "d50c6232-021f-45e5-b680-e00fa3b1efd3",
      "metadata": {
        "id": "d50c6232-021f-45e5-b680-e00fa3b1efd3"
      },
      "source": [
        "Here we plot `data_array_at_time` with matplotlib and its basemap extenstion to add geographic context."
      ]
    },
    {
      "cell_type": "code",
      "execution_count": null,
      "id": "c58133a1",
      "metadata": {
        "tags": [],
        "id": "c58133a1"
      },
      "outputs": [],
      "source": [
        "# Let's use matplotlib's imshow, since our data is on a grid\n",
        "# ref: https://matplotlib.org/stable/api/_as_gen/matplotlib.pyplot.imshow.html\n",
        "\n",
        "# Initialize a figure and plot, so we can customize figure and plot of data\n",
        "# ref: https://matplotlib.org/stable/api/_as_gen/matplotlib.pyplot.subplots.html\n",
        "# ref: https://scitools.org.uk/cartopy/docs/latest/getting_started/index.html\n",
        "my_fig, my_plt = plt.subplots(figsize=(15, 6), subplot_kw=dict(projection=ccrs.PlateCarree()))\n",
        "\n",
        "# Let's set some parameters to get the visualization we want\n",
        "# ref: https://matplotlib.org/stable/api/_as_gen/matplotlib.pyplot.imshow.html\n",
        "\n",
        "# color PM25 values on a log scale, since values are small\n",
        "my_norm = \"log\"\n",
        "# this will number our x and y axes based on the longitude latitude range\n",
        "my_extent = [np.min(longitude), np.max(longitude), np.min(latitude), np.max(latitude)]\n",
        "# ensure the aspect ratio of our plot fits all data, matplotlib can does this automatically\n",
        "my_aspect = 'auto'\n",
        "# tell matplotlib, our origin is the lower-left corner\n",
        "my_origin = 'lower'\n",
        "# select a colormap for our plot and the color bar on the right\n",
        "my_cmap = 'Oranges'\n",
        "\n",
        "# create our plot using imshow\n",
        "plot = my_plt.imshow(data_array_at_time.values, norm=my_norm, extent=my_extent,\n",
        "          aspect=my_aspect, origin=my_origin, cmap=my_cmap)\n",
        "\n",
        "# draw coastlines\n",
        "my_plt.coastlines()\n",
        "\n",
        "# draw latitude longitude lines\n",
        "# ref: https://scitools.org.uk/cartopy/docs/latest/gallery/gridlines_and_labels/gridliner.html\n",
        "my_plt.gridlines(draw_labels=True)\n",
        "\n",
        "# add a colorbar to our figure, based on the plot we just made above\n",
        "my_fig.colorbar(plot,location='right', label='ug/m^3')\n",
        "\n",
        "# Add metadata as text annotations\n",
        "metadata_text = (\n",
        "    f'resampled: {resampled.values}\\n'\n",
        "    f'SDATE: {sdate.values}\\n'\n",
        "    f'STIME: {stime.values}\\n'\n",
        "    f'WDATE: {wdate.values}\\n'\n",
        "    f'WTIME: {wtime.values}'\n",
        ")\n",
        "\n",
        "# Place metadata text on the plot\n",
        "my_plt.text(0.02, 0.02, metadata_text, transform=my_plt.transAxes,\n",
        "            fontsize=12, verticalalignment='bottom', bbox=dict(facecolor='white', alpha=0.8))\n",
        "\n",
        "# Set x and y axis labels on our ax\n",
        "my_fig.supxlabel('Longitude')\n",
        "my_fig.supylabel('Latitude')\n",
        "\n",
        "# Set title of our figure\n",
        "my_fig.suptitle('Ground level concentration of PM2.5 microns and smaller')\n",
        "\n",
        "# Set title of our plot as the timestamp of our data\n",
        "my_plt.set_title(f'{my_timestamp}')\n",
        "\n",
        "# Show the resulting visualization\n",
        "plt.show()"
      ]
    },
    {
      "cell_type": "markdown",
      "id": "6d6d81b8-e18c-475e-a09f-9ca534f681cd",
      "metadata": {
        "id": "6d6d81b8-e18c-475e-a09f-9ca534f681cd"
      },
      "source": [
        "Here we plot with xarray's built-in matplotlib powered plotter."
      ]
    },
    {
      "cell_type": "code",
      "execution_count": null,
      "id": "ccf70c29-97c3-4ce6-93c7-e6045bef8597",
      "metadata": {
        "tags": [],
        "id": "ccf70c29-97c3-4ce6-93c7-e6045bef8597"
      },
      "outputs": [],
      "source": [
        "data_array_at_time.plot(vmin=0, vmax=30)"
      ]
    },
    {
      "cell_type": "markdown",
      "id": "6a550d01-8d85-48f0-a121-f06d6ba18b06",
      "metadata": {
        "id": "6a550d01-8d85-48f0-a121-f06d6ba18b06"
      },
      "source": [
        "---\n",
        "Here we plot data_array_at_latlon. We use the exact same code, but define `my_extent` accordingly."
      ]
    },
    {
      "cell_type": "code",
      "execution_count": null,
      "id": "5084c252-567b-4339-b71a-691d44d28898",
      "metadata": {
        "id": "5084c252-567b-4339-b71a-691d44d28898"
      },
      "outputs": [],
      "source": [
        "# Let's use matplotlib's imshow, since our data is on a grid\n",
        "# ref: https://matplotlib.org/stable/api/_as_gen/matplotlib.pyplot.imshow.html\n",
        "\n",
        "# Initialize a figure and plot, so we can customize figure and plot of data\n",
        "# ref: https://matplotlib.org/stable/api/_as_gen/matplotlib.pyplot.subplots.html\n",
        "my_fig, my_plt = plt.subplots(figsize=(15, 6), subplot_kw=dict(projection=ccrs.PlateCarree()))\n",
        "\n",
        "# Let's set some parameters to get the visualization we want\n",
        "# ref: https://matplotlib.org/stable/api/_as_gen/matplotlib.pyplot.imshow.html\n",
        "\n",
        "# color PM25 values on a log scale, since values are small\n",
        "my_norm = \"log\"\n",
        "# ***this will number our x and y axes based on the longitude latitude range***\n",
        "my_extent = [min_lon, max_lon, min_lat, max_lat]\n",
        "# ensure the aspect ratio of our plot fits all data, matplotlib can does this automatically\n",
        "my_aspect = 'auto'\n",
        "# tell matplotlib, our origin is the lower-left corner\n",
        "my_origin = 'lower'\n",
        "# select a colormap for our plot and the color bar on the right\n",
        "my_cmap = 'Oranges'\n",
        "\n",
        "# create our plot using imshow\n",
        "plot = plt.imshow(data_array_at_latlon.values, norm=my_norm, extent=my_extent,\n",
        "          aspect=my_aspect, origin=my_origin, cmap=my_cmap)\n",
        "\n",
        "# draw coastlines\n",
        "my_plt.coastlines()\n",
        "\n",
        "# draw latitude longitude lines\n",
        "# ref: https://scitools.org.uk/cartopy/docs/latest/gallery/gridlines_and_labels/gridliner.html\n",
        "my_plt.gridlines(draw_labels=True)\n",
        "\n",
        "# add a colorbar to our figure, based on the plot we just made above\n",
        "my_fig.colorbar(plot,location='right', label='ug/m^3')\n",
        "\n",
        "# Add metadata as text annotations\n",
        "metadata_text = (\n",
        "    f'resampled: {resampled.values}\\n'\n",
        "    f'SDATE: {sdate.values}\\n'\n",
        "    f'STIME: {stime.values}\\n'\n",
        "    f'WDATE: {wdate.values}\\n'\n",
        "    f'WTIME: {wtime.values}'\n",
        ")\n",
        "\n",
        "# Place metadata text on the plot\n",
        "my_plt.text(0.02, 0.02, metadata_text, transform=my_plt.transAxes,\n",
        "            fontsize=12, verticalalignment='bottom', bbox=dict(facecolor='white', alpha=0.8))\n",
        "\n",
        "# Set x and y axis labels on our ax\n",
        "my_fig.supxlabel('Longitude')\n",
        "my_fig.supylabel('Latitude')\n",
        "\n",
        "# Set title of our figure\n",
        "my_fig.suptitle('Ground level concentration of PM2.5 microns and smaller')\n",
        "\n",
        "# Set title of our plot as the timestamp of our data\n",
        "my_plt.set_title(f'{my_timestamp}')\n",
        "\n",
        "# Show the resulting visualization\n",
        "plt.show()"
      ]
    },
    {
      "cell_type": "code",
      "execution_count": null,
      "id": "edf41f8c-3774-45cb-82b7-d83e673c054b",
      "metadata": {
        "tags": [],
        "id": "edf41f8c-3774-45cb-82b7-d83e673c054b"
      },
      "outputs": [],
      "source": [
        "data_array_at_latlon.plot(vmin=0, vmax=30)"
      ]
    },
    {
      "cell_type": "markdown",
      "id": "d4c13ced-3fc0-406f-8ee4-d8455737e278",
      "metadata": {
        "id": "d4c13ced-3fc0-406f-8ee4-d8455737e278"
      },
      "source": [
        "### *Please reach out to Arleth Salinas or Valerio Pascucci for any concerns about the notebook. Thank you!*\n",
        "- Arleth Salinas (arleth.salinas@utah.edu)\n",
        "- Valerio Pascucci (pascucci.valerio@gmail.com)"
      ]
    }
  ],
  "metadata": {
    "kernelspec": {
      "display_name": "Python 3 (ipykernel)",
      "language": "python",
      "name": "python3"
    },
    "language_info": {
      "codemirror_mode": {
        "name": "ipython",
        "version": 3
      },
      "file_extension": ".py",
      "mimetype": "text/x-python",
      "name": "python",
      "nbconvert_exporter": "python",
      "pygments_lexer": "ipython3",
      "version": "3.9.19"
    },
    "colab": {
      "provenance": []
    }
  },
  "nbformat": 4,
  "nbformat_minor": 5
}